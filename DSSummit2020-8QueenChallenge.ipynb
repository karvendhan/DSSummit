{
 "cells": [
  {
   "cell_type": "code",
   "execution_count": null,
   "metadata": {},
   "outputs": [],
   "source": []
  },
  {
   "cell_type": "code",
   "execution_count": 652,
   "metadata": {},
   "outputs": [],
   "source": [
    "def validate(a,b):\n",
    "    for i in range(num):\n",
    "        if(sum(a.diagonal(i)) <= 1 and sum(a.diagonal(-i)) <= 1 and sum(np.fliplr(a).diagonal(i)) <= 1 and sum(np.fliplr(a).diagonal(-i)) <= 1 ):\n",
    "            if (i<num-1):\n",
    "                continue\n",
    "            else:\n",
    "                print(\"test case passed for input \" + str(b))\n",
    "                return 1\n",
    "        else:\n",
    "            #print(\"test case failed for input \" + str(b) + \" iteration \" + str(i))\n",
    "            return 2\n",
    "            break\n",
    "            "
   ]
  },
  {
   "cell_type": "code",
   "execution_count": 656,
   "metadata": {},
   "outputs": [
    {
     "name": "stdout",
     "output_type": "stream",
     "text": [
      "test case passed for input [4, 6, 1, 3, 7, 0, 2, 5]\n"
     ]
    }
   ],
   "source": [
    "import random\n",
    "import numpy as np\n",
    "num=8\n",
    "\n",
    "while num==num :\n",
    "    b = random.sample(range(0,num),num)\n",
    "    #print(b)\n",
    "    a=np.empty([num,num])\n",
    "    a.fill(0)\n",
    "    \n",
    "    for i in range(num):\n",
    "        a[i,b[i]]=1\n",
    "\n",
    "    #print(a)\n",
    "    \n",
    "    if(validate(a,b)==1):\n",
    "        \n",
    "        break\n",
    "    else:\n",
    "        continue\n",
    "    \n",
    "        \n"
   ]
  },
  {
   "cell_type": "code",
   "execution_count": null,
   "metadata": {},
   "outputs": [],
   "source": []
  }
 ],
 "metadata": {
  "kernelspec": {
   "display_name": "Python 3",
   "language": "python",
   "name": "python3"
  },
  "language_info": {
   "codemirror_mode": {
    "name": "ipython",
    "version": 3
   },
   "file_extension": ".py",
   "mimetype": "text/x-python",
   "name": "python",
   "nbconvert_exporter": "python",
   "pygments_lexer": "ipython3",
   "version": "3.7.6"
  }
 },
 "nbformat": 4,
 "nbformat_minor": 4
}
